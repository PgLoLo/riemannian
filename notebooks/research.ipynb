{
 "cells": [
  {
   "cell_type": "code",
   "execution_count": 1,
   "id": "initial_id",
   "metadata": {
    "collapsed": true,
    "ExecuteTime": {
     "end_time": "2023-10-29T15:00:50.268562004Z",
     "start_time": "2023-10-29T15:00:50.268290484Z"
    }
   },
   "outputs": [],
   "source": [
    "%load_ext autoreload\n",
    "%autoreload 2"
   ]
  },
  {
   "cell_type": "code",
   "execution_count": 3,
   "outputs": [],
   "source": [
    "import torch as t\n",
    "import tntorch as tn\n",
    "from einops import einsum\n",
    "\n",
    "from riemannian.riemannian_ttm import RiemannianTTMCores\n",
    "from riemannian.optimizer import RiemannianOptimizer"
   ],
   "metadata": {
    "collapsed": false,
    "ExecuteTime": {
     "end_time": "2023-10-29T15:01:18.678973919Z",
     "start_time": "2023-10-29T15:01:18.665178306Z"
    }
   },
   "id": "814d4d5f967c1622"
  },
  {
   "cell_type": "code",
   "execution_count": 4,
   "outputs": [],
   "source": [
    "net = RiemannianTTMCores(tn.TTMatrix(t.ones(2**3, 2**3), [3, 3], [2, 2, 2], [2, 2, 2]), 3)"
   ],
   "metadata": {
    "collapsed": false,
    "ExecuteTime": {
     "end_time": "2023-10-29T15:01:19.397555910Z",
     "start_time": "2023-10-29T15:01:19.367843324Z"
    }
   },
   "id": "bec6b9e26eda0fec"
  },
  {
   "cell_type": "code",
   "execution_count": 16,
   "outputs": [
    {
     "name": "stdout",
     "output_type": "stream",
     "text": [
      "True\n",
      "True\n",
      "True\n"
     ]
    }
   ],
   "source": [
    "for param in net.parameters():\n",
    "    print(param.requires_grad)"
   ],
   "metadata": {
    "collapsed": false,
    "ExecuteTime": {
     "end_time": "2023-10-29T16:05:35.735791678Z",
     "start_time": "2023-10-29T16:05:35.711913840Z"
    }
   },
   "id": "df00976049736a3"
  },
  {
   "cell_type": "code",
   "execution_count": 14,
   "outputs": [
    {
     "name": "stdout",
     "output_type": "stream",
     "text": [
      "[{'params': [RiemannianTTMCores(\n",
      "  (us): BufferList()\n",
      "  (vs): BufferList()\n",
      "  (deltas): ParameterList(\n",
      "      (0): Parameter containing: [torch.float32 of size 1x4x3]\n",
      "      (1): Parameter containing: [torch.float32 of size 3x4x2]\n",
      "      (2): Parameter containing: [torch.float32 of size 2x4x1]\n",
      "  )\n",
      ")], 'lr': 0.001}]\n"
     ]
    }
   ],
   "source": [
    "optimizer = RiemannianOptimizer([net], 1e-3)\n",
    "optimizer.step()"
   ],
   "metadata": {
    "collapsed": false,
    "ExecuteTime": {
     "end_time": "2023-10-29T15:06:07.009574634Z",
     "start_time": "2023-10-29T15:06:06.965521237Z"
    }
   },
   "id": "bdf2febd51228f6e"
  }
 ],
 "metadata": {
  "kernelspec": {
   "display_name": "Python 3",
   "language": "python",
   "name": "python3"
  },
  "language_info": {
   "codemirror_mode": {
    "name": "ipython",
    "version": 2
   },
   "file_extension": ".py",
   "mimetype": "text/x-python",
   "name": "python",
   "nbconvert_exporter": "python",
   "pygments_lexer": "ipython2",
   "version": "2.7.6"
  }
 },
 "nbformat": 4,
 "nbformat_minor": 5
}
