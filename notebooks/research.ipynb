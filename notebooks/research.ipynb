{
 "cells": [
  {
   "cell_type": "code",
   "execution_count": 1,
   "id": "initial_id",
   "metadata": {
    "collapsed": true,
    "ExecuteTime": {
     "end_time": "2023-10-30T11:13:22.179569930Z",
     "start_time": "2023-10-30T11:13:22.176570874Z"
    }
   },
   "outputs": [],
   "source": [
    "%load_ext autoreload\n",
    "%autoreload 2"
   ]
  },
  {
   "cell_type": "code",
   "execution_count": 2,
   "outputs": [
    {
     "ename": "SyntaxError",
     "evalue": "'(' was never closed (optimizer.py, line 83)",
     "output_type": "error",
     "traceback": [
      "Traceback \u001B[0;36m(most recent call last)\u001B[0m:\n",
      "\u001B[0m  File \u001B[1;32m~/soft/miniconda3/envs/ml/lib/python3.10/site-packages/IPython/core/interactiveshell.py:3526\u001B[0m in \u001B[1;35mrun_code\u001B[0m\n    exec(code_obj, self.user_global_ns, self.user_ns)\u001B[0m\n",
      "\u001B[0;36m  Cell \u001B[0;32mIn[2], line 6\u001B[0;36m\n\u001B[0;31m    from riemannian.optimizer import RiemannianOptimizer\u001B[0;36m\n",
      "\u001B[0;36m  File \u001B[0;32m~/code/riemannian/riemannian/optimizer.py:83\u001B[0;36m\u001B[0m\n\u001B[0;31m    return cls([submodule for submodule in module.named_modules()]\u001B[0m\n\u001B[0m              ^\u001B[0m\n\u001B[0;31mSyntaxError\u001B[0m\u001B[0;31m:\u001B[0m '(' was never closed\n"
     ]
    }
   ],
   "source": [
    "import torch as t\n",
    "import tntorch as tn\n",
    "from einops import einsum\n",
    "\n",
    "from riemannian.riemannian_ttm import RiemannianTTMCores\n",
    "from riemannian.optimizer import RiemannianOptimizer"
   ],
   "metadata": {
    "collapsed": false,
    "ExecuteTime": {
     "end_time": "2023-10-30T11:13:23.118159951Z",
     "start_time": "2023-10-30T11:13:22.178825421Z"
    }
   },
   "id": "814d4d5f967c1622"
  },
  {
   "cell_type": "code",
   "execution_count": 3,
   "outputs": [
    {
     "name": "stdout",
     "output_type": "stream",
     "text": [
      " Sequential(\n",
      "  (0): Sequential(\n",
      "    (0): Linear(in_features=2, out_features=3, bias=True)\n",
      "    (1): Linear(in_features=2, out_features=3, bias=True)\n",
      "  )\n",
      "  (1): Sequential(\n",
      "    (0): Linear(in_features=2, out_features=3, bias=True)\n",
      "    (1): Linear(in_features=2, out_features=3, bias=True)\n",
      "  )\n",
      ")\n",
      "0 Sequential(\n",
      "  (0): Linear(in_features=2, out_features=3, bias=True)\n",
      "  (1): Linear(in_features=2, out_features=3, bias=True)\n",
      ")\n",
      "0.0 Linear(in_features=2, out_features=3, bias=True)\n",
      "0.1 Linear(in_features=2, out_features=3, bias=True)\n",
      "1 Sequential(\n",
      "  (0): Linear(in_features=2, out_features=3, bias=True)\n",
      "  (1): Linear(in_features=2, out_features=3, bias=True)\n",
      ")\n",
      "1.1 Linear(in_features=2, out_features=3, bias=True)\n"
     ]
    }
   ],
   "source": [
    "from torch import nn\n",
    "linear1 = nn.Linear(2, 3)\n",
    "linear2 = nn.Linear(2, 3)\n",
    "linear3 = nn.Linear(2, 3)\n",
    "\n",
    "network = nn.Sequential(\n",
    "    nn.Sequential(linear1, linear2),\n",
    "    nn.Sequential(linear2, linear3),\n",
    ")\n",
    "\n",
    "for name, value in network.named_modules():\n",
    "    print(name, value)"
   ],
   "metadata": {
    "collapsed": false,
    "ExecuteTime": {
     "end_time": "2023-10-30T11:14:16.314062020Z",
     "start_time": "2023-10-30T11:14:16.270304017Z"
    }
   },
   "id": "ed6cc7d3191077c1"
  },
  {
   "cell_type": "code",
   "execution_count": 4,
   "outputs": [],
   "source": [
    "net = RiemannianTTMCores(tn.TTMatrix(t.ones(2**3, 2**3), [3, 3], [2, 2, 2], [2, 2, 2]), 3)"
   ],
   "metadata": {
    "collapsed": false,
    "ExecuteTime": {
     "end_time": "2023-10-29T15:01:19.397555910Z",
     "start_time": "2023-10-29T15:01:19.367843324Z"
    }
   },
   "id": "bec6b9e26eda0fec"
  },
  {
   "cell_type": "code",
   "execution_count": 16,
   "outputs": [
    {
     "name": "stdout",
     "output_type": "stream",
     "text": [
      "True\n",
      "True\n",
      "True\n"
     ]
    }
   ],
   "source": [
    "for param in net.parameters():\n",
    "    print(param.requires_grad)"
   ],
   "metadata": {
    "collapsed": false,
    "ExecuteTime": {
     "end_time": "2023-10-29T16:05:35.735791678Z",
     "start_time": "2023-10-29T16:05:35.711913840Z"
    }
   },
   "id": "df00976049736a3"
  },
  {
   "cell_type": "code",
   "execution_count": 14,
   "outputs": [
    {
     "name": "stdout",
     "output_type": "stream",
     "text": [
      "[{'params': [RiemannianTTMCores(\n",
      "  (us): BufferList()\n",
      "  (vs): BufferList()\n",
      "  (deltas): ParameterList(\n",
      "      (0): Parameter containing: [torch.float32 of size 1x4x3]\n",
      "      (1): Parameter containing: [torch.float32 of size 3x4x2]\n",
      "      (2): Parameter containing: [torch.float32 of size 2x4x1]\n",
      "  )\n",
      ")], 'lr': 0.001}]\n"
     ]
    }
   ],
   "source": [
    "optimizer = RiemannianOptimizer([net], 1e-3)\n",
    "optimizer.step()"
   ],
   "metadata": {
    "collapsed": false,
    "ExecuteTime": {
     "end_time": "2023-10-29T15:06:07.009574634Z",
     "start_time": "2023-10-29T15:06:06.965521237Z"
    }
   },
   "id": "bdf2febd51228f6e"
  }
 ],
 "metadata": {
  "kernelspec": {
   "display_name": "Python 3",
   "language": "python",
   "name": "python3"
  },
  "language_info": {
   "codemirror_mode": {
    "name": "ipython",
    "version": 2
   },
   "file_extension": ".py",
   "mimetype": "text/x-python",
   "name": "python",
   "nbconvert_exporter": "python",
   "pygments_lexer": "ipython2",
   "version": "2.7.6"
  }
 },
 "nbformat": 4,
 "nbformat_minor": 5
}
